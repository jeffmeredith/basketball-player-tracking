{
 "cells": [
  {
   "cell_type": "code",
   "execution_count": 88,
   "metadata": {},
   "outputs": [],
   "source": [
    "import json\n",
    "import pandas as pd\n",
    "import numpy as np\n",
    "import cv2\n",
    "import copy\n",
    "import shutil\n",
    "import os"
   ]
  },
  {
   "cell_type": "code",
   "execution_count": 118,
   "metadata": {},
   "outputs": [],
   "source": [
    "def apply_color_mask(mask):\n",
    "    original_height, original_width = mask.shape[:2]\n",
    "    # Blue, Red, Green, Yellow, Orange, Purple\n",
    "    color_order = [\n",
    "        [255, 0, 0],\n",
    "        [0, 0, 255],\n",
    "        [0, 255, 0],\n",
    "        [0, 255, 255],\n",
    "        [0,165,255],\n",
    "        [255,0,255]\n",
    "    ]\n",
    "\n",
    "    # Define the new dimensions (e.g., 50% of the original size)\n",
    "    scale_percent = 40  # Percent of the original size\n",
    "    new_width = int(original_width * scale_percent / 100)\n",
    "    new_height = int(original_height * scale_percent / 100)\n",
    "    new_dimensions = (new_width, new_height)\n",
    "\n",
    "    # Resize the image\n",
    "    mask = cv2.resize(mask, new_dimensions, interpolation = cv2.INTER_AREA)\n",
    "    unique_instances = np.unique(mask)\n",
    "    unique_classes = []\n",
    "\n",
    "    # Output image initialized with zeros (black)\n",
    "    colored_mask = np.zeros((*mask.shape, 3), dtype=np.uint8)\n",
    "\n",
    "    for instance_value in unique_instances:\n",
    "        # Extract instance ID\n",
    "        instance_class = instance_value // 1000\n",
    "        unique_classes.append(instance_class)\n",
    "        instance_id = instance_value % 1000\n",
    "        if instance_id <= 6:\n",
    "            colored_mask[mask == instance_value] = color_order[instance_id - 1]\n",
    "    print(np.unique(np.array(unique_classes)))\n",
    "    return colored_mask\n"
   ]
  },
  {
   "cell_type": "code",
   "execution_count": 119,
   "metadata": {},
   "outputs": [
    {
     "name": "stdout",
     "output_type": "stream",
     "text": [
      "[0 1]\n"
     ]
    },
    {
     "data": {
      "text/plain": [
       "True"
      ]
     },
     "execution_count": 119,
     "metadata": {},
     "output_type": "execute_result"
    }
   ],
   "source": [
    "image_path = 'data/KS-FR-MONACO/29458/camcourt1_1512590601632_humans.png'\n",
    "image = cv2.imread(image_path, cv2.IMREAD_UNCHANGED)\n",
    "result = apply_color_mask(image)\n",
    "# Save the scaled mask\n",
    "cv2.imwrite('color1.png', result)"
   ]
  },
  {
   "cell_type": "code",
   "execution_count": 120,
   "metadata": {},
   "outputs": [
    {
     "name": "stdout",
     "output_type": "stream",
     "text": [
      "[0 1 2]\n"
     ]
    },
    {
     "data": {
      "text/plain": [
       "True"
      ]
     },
     "execution_count": 120,
     "metadata": {},
     "output_type": "execute_result"
    }
   ],
   "source": [
    "image2 = 'data/KS-FR-MONACO/29458/camcourt2_1512590601632_humans.png'\n",
    "image2 = cv2.imread(image2, cv2.IMREAD_UNCHANGED)\n",
    "result2 = apply_color_mask(image2)\n",
    "# Save the scaled mask\n",
    "cv2.imwrite('color2.png', result2)"
   ]
  },
  {
   "cell_type": "code",
   "execution_count": 89,
   "metadata": {},
   "outputs": [],
   "source": [
    "with open('data/player-positions.json', 'r') as f:\n",
    "    player_data = json.load(f)"
   ]
  },
  {
   "cell_type": "code",
   "execution_count": 92,
   "metadata": {},
   "outputs": [],
   "source": [
    "# given a mask object, return the bounding boxes for all player instances in order of instance ID\n",
    "def get_bounding_boxes(mask, num_players):\n",
    "    bounding_boxes = []\n",
    "    max_instance_id = num_players\n",
    "    img_height, img_width = mask.shape\n",
    "\n",
    "    for instance_id in range(1, max_instance_id + 1):\n",
    "        instance_value = 1000 + instance_id\n",
    "        indices = np.where(mask == instance_value)\n",
    "        min_x, min_y, max_x, max_y = float('inf'), float('inf'), float('-inf'), float('-inf')\n",
    "\n",
    "        for y, x in zip(indices[0], indices[1]):\n",
    "            if x < min_x:\n",
    "                min_x = x\n",
    "            if y < min_y:\n",
    "                min_y = y\n",
    "            if x > max_x:\n",
    "                max_x = x\n",
    "            if y > max_y:\n",
    "                max_y = y\n",
    "        if min_x != float('inf') and max_x != float('-inf'):\n",
    "            width = max_x - min_x + 1\n",
    "            height = max_y - min_y + 1\n",
    "            center_x = min_x + width / 2\n",
    "            center_y = min_y + height / 2\n",
    "            normalized_center_x = center_x / img_width\n",
    "            normalized_center_y = center_y / img_height\n",
    "            normalized_width = width / img_width\n",
    "            normalized_height = height / img_height\n",
    "            bounding_boxes.append([normalized_center_x, normalized_center_y, normalized_width, normalized_height])\n",
    "        else:\n",
    "            bounding_boxes.append(None)\n",
    "            print(\"Player mask not found\")\n",
    "    return bounding_boxes"
   ]
  },
  {
   "cell_type": "code",
   "execution_count": 93,
   "metadata": {},
   "outputs": [],
   "source": [
    "clean_annotation_data = []\n",
    "clean_position_data = []\n",
    "for timestamp in player_data:\n",
    "    num_players = len(timestamp['annotations'])\n",
    "    if timestamp['side'] == 'left':\n",
    "        camcourt = 'camcourt1_'\n",
    "    else:\n",
    "        camcourt = 'camcourt2_'\n",
    "    image_heading = 'data/' + str(timestamp['arena_label']) + '/' + str(timestamp['game_id']) + '/'\n",
    "    filename = camcourt + str(timestamp['timestamp']) + '_0.png'\n",
    "    image_path = image_heading + filename\n",
    "    mask_path = image_heading + filename[:-5] + 'humans.png'\n",
    "    if timestamp['side'] == 'right':\n",
    "        image = cv2.imread(image_path)\n",
    "        mask = cv2.imread(mask_path, cv2.IMREAD_UNCHANGED)\n",
    "        image = cv2.flip(image, 1)\n",
    "        mask = cv2.flip(mask, 1)\n",
    "        output_image_path = 'datasets/player-data/' + filename\n",
    "        cv2.imwrite(output_image_path, image)\n",
    "    else:\n",
    "        mask = cv2.imread(mask_path, cv2.IMREAD_UNCHANGED)\n",
    "        shutil.copy(image_path, 'datasets/player-data/' + filename)\n",
    "    boxes = get_bounding_boxes(mask, num_players)\n",
    "    clean_annotation_data.append({\n",
    "        'filename': filename,\n",
    "        'bounding_boxes': boxes \n",
    "    })\n",
    "    player_index = 0\n",
    "    boxes_with_pos = []\n",
    "    player_positions = []\n",
    "    for annotation in timestamp['annotations']:\n",
    "        boxes_with_pos.append(boxes[player_index])\n",
    "        player_positions.append(annotation['xyz'])\n",
    "        player_index += 1\n",
    "    clean_position_data.append({\n",
    "        'filename': filename,\n",
    "        'filepath': image_path,\n",
    "        'bounding_boxes': boxes_with_pos,\n",
    "        'xyz_positions': player_positions\n",
    "    })\n",
    "\n",
    "clean_annotation_data = pd.DataFrame(clean_annotation_data)\n",
    "clean_position_data = pd.DataFrame(clean_position_data)\n",
    "def find_num_missing(boxes):\n",
    "    none_count = 0\n",
    "    for box in boxes:\n",
    "        if box == None:\n",
    "            none_count += 1\n",
    "    return none_count\n",
    "clean_annotation_data['num_missing'] = clean_annotation_data['bounding_boxes'].apply(find_num_missing)"
   ]
  },
  {
   "cell_type": "code",
   "execution_count": 99,
   "metadata": {},
   "outputs": [
    {
     "data": {
      "text/html": [
       "<div>\n",
       "<style scoped>\n",
       "    .dataframe tbody tr th:only-of-type {\n",
       "        vertical-align: middle;\n",
       "    }\n",
       "\n",
       "    .dataframe tbody tr th {\n",
       "        vertical-align: top;\n",
       "    }\n",
       "\n",
       "    .dataframe thead th {\n",
       "        text-align: right;\n",
       "    }\n",
       "</style>\n",
       "<table border=\"1\" class=\"dataframe\">\n",
       "  <thead>\n",
       "    <tr style=\"text-align: right;\">\n",
       "      <th></th>\n",
       "      <th>filename</th>\n",
       "      <th>filepath</th>\n",
       "      <th>bounding_boxes</th>\n",
       "      <th>xyz_positions</th>\n",
       "    </tr>\n",
       "  </thead>\n",
       "  <tbody>\n",
       "    <tr>\n",
       "      <th>0</th>\n",
       "      <td>camcourt1_1512760174441_0.png</td>\n",
       "      <td>data/KS-FR-STCHAMOND/24320/camcourt1_151276017...</td>\n",
       "      <td>[[0.6591748768472906, 0.37763371150729336, 0.0...</td>\n",
       "      <td>[[694.2688390833725, 65.61677260331226, -180.0]]</td>\n",
       "    </tr>\n",
       "    <tr>\n",
       "      <th>1</th>\n",
       "      <td>camcourt2_1512760174441_0.png</td>\n",
       "      <td>data/KS-FR-STCHAMOND/24320/camcourt2_151276017...</td>\n",
       "      <td>[[0.48460591133004927, 0.40640194489465153, 0....</td>\n",
       "      <td>[[362.794699732086, 579.1278461732304, -180.0]...</td>\n",
       "    </tr>\n",
       "    <tr>\n",
       "      <th>2</th>\n",
       "      <td>camcourt2_1512761974116_0.png</td>\n",
       "      <td>data/KS-FR-STCHAMOND/24320/camcourt2_151276197...</td>\n",
       "      <td>[[0.6268472906403941, 0.5587520259319287, 0.03...</td>\n",
       "      <td>[[1012.0560813562383, 1284.0197861083373, -180...</td>\n",
       "    </tr>\n",
       "    <tr>\n",
       "      <th>3</th>\n",
       "      <td>camcourt1_1512763413947_0.png</td>\n",
       "      <td>data/KS-FR-STCHAMOND/24320/camcourt1_151276341...</td>\n",
       "      <td>[[0.8103448275862069, 0.5162074554294975, 0.04...</td>\n",
       "      <td>[[1226.4846904387414, 921.1166040980411, -180....</td>\n",
       "    </tr>\n",
       "    <tr>\n",
       "      <th>4</th>\n",
       "      <td>camcourt2_1512763413947_0.png</td>\n",
       "      <td>data/KS-FR-STCHAMOND/24320/camcourt2_151276341...</td>\n",
       "      <td>[[0.9818349753694581, 0.5421393841166937, 0.03...</td>\n",
       "      <td>[[773.0160440625336, 53.63298153323194, -180.0...</td>\n",
       "    </tr>\n",
       "  </tbody>\n",
       "</table>\n",
       "</div>"
      ],
      "text/plain": [
       "                        filename  \\\n",
       "0  camcourt1_1512760174441_0.png   \n",
       "1  camcourt2_1512760174441_0.png   \n",
       "2  camcourt2_1512761974116_0.png   \n",
       "3  camcourt1_1512763413947_0.png   \n",
       "4  camcourt2_1512763413947_0.png   \n",
       "\n",
       "                                            filepath  \\\n",
       "0  data/KS-FR-STCHAMOND/24320/camcourt1_151276017...   \n",
       "1  data/KS-FR-STCHAMOND/24320/camcourt2_151276017...   \n",
       "2  data/KS-FR-STCHAMOND/24320/camcourt2_151276197...   \n",
       "3  data/KS-FR-STCHAMOND/24320/camcourt1_151276341...   \n",
       "4  data/KS-FR-STCHAMOND/24320/camcourt2_151276341...   \n",
       "\n",
       "                                      bounding_boxes  \\\n",
       "0  [[0.6591748768472906, 0.37763371150729336, 0.0...   \n",
       "1  [[0.48460591133004927, 0.40640194489465153, 0....   \n",
       "2  [[0.6268472906403941, 0.5587520259319287, 0.03...   \n",
       "3  [[0.8103448275862069, 0.5162074554294975, 0.04...   \n",
       "4  [[0.9818349753694581, 0.5421393841166937, 0.03...   \n",
       "\n",
       "                                       xyz_positions  \n",
       "0   [[694.2688390833725, 65.61677260331226, -180.0]]  \n",
       "1  [[362.794699732086, 579.1278461732304, -180.0]...  \n",
       "2  [[1012.0560813562383, 1284.0197861083373, -180...  \n",
       "3  [[1226.4846904387414, 921.1166040980411, -180....  \n",
       "4  [[773.0160440625336, 53.63298153323194, -180.0...  "
      ]
     },
     "execution_count": 99,
     "metadata": {},
     "output_type": "execute_result"
    }
   ],
   "source": [
    "clean_position_data.head()"
   ]
  },
  {
   "cell_type": "code",
   "execution_count": 106,
   "metadata": {},
   "outputs": [],
   "source": [
    "clean_position_data.to_csv('player_positions.csv', index=False)"
   ]
  },
  {
   "cell_type": "code",
   "execution_count": 122,
   "metadata": {},
   "outputs": [],
   "source": [
    "clean_annotation_data['is_training'] = np.concatenate([np.array([True] * int(0.8 * len(clean_annotation_data))), np.array([False] * (len(clean_annotation_data) - int(0.8 * len(clean_annotation_data))))])\n",
    "clean_annotation_data['is_training'] = clean_annotation_data['is_training'].sample(frac=1).reset_index(drop=True)"
   ]
  },
  {
   "cell_type": "code",
   "execution_count": 131,
   "metadata": {},
   "outputs": [
    {
     "data": {
      "text/html": [
       "<div>\n",
       "<style scoped>\n",
       "    .dataframe tbody tr th:only-of-type {\n",
       "        vertical-align: middle;\n",
       "    }\n",
       "\n",
       "    .dataframe tbody tr th {\n",
       "        vertical-align: top;\n",
       "    }\n",
       "\n",
       "    .dataframe thead th {\n",
       "        text-align: right;\n",
       "    }\n",
       "</style>\n",
       "<table border=\"1\" class=\"dataframe\">\n",
       "  <thead>\n",
       "    <tr style=\"text-align: right;\">\n",
       "      <th></th>\n",
       "      <th>filename</th>\n",
       "      <th>bounding_boxes</th>\n",
       "      <th>num_missing</th>\n",
       "      <th>is_training</th>\n",
       "    </tr>\n",
       "  </thead>\n",
       "  <tbody>\n",
       "    <tr>\n",
       "      <th>0</th>\n",
       "      <td>camcourt1_1512760174441_0.png</td>\n",
       "      <td>[[0.6591748768472906, 0.37763371150729336, 0.0...</td>\n",
       "      <td>0</td>\n",
       "      <td>True</td>\n",
       "    </tr>\n",
       "    <tr>\n",
       "      <th>1</th>\n",
       "      <td>camcourt2_1512760174441_0.png</td>\n",
       "      <td>[[0.48460591133004927, 0.40640194489465153, 0....</td>\n",
       "      <td>0</td>\n",
       "      <td>True</td>\n",
       "    </tr>\n",
       "    <tr>\n",
       "      <th>2</th>\n",
       "      <td>camcourt2_1512761974116_0.png</td>\n",
       "      <td>[[0.6268472906403941, 0.5587520259319287, 0.03...</td>\n",
       "      <td>0</td>\n",
       "      <td>True</td>\n",
       "    </tr>\n",
       "    <tr>\n",
       "      <th>3</th>\n",
       "      <td>camcourt1_1512763413947_0.png</td>\n",
       "      <td>[[0.8103448275862069, 0.5162074554294975, 0.04...</td>\n",
       "      <td>0</td>\n",
       "      <td>True</td>\n",
       "    </tr>\n",
       "    <tr>\n",
       "      <th>4</th>\n",
       "      <td>camcourt2_1512763413947_0.png</td>\n",
       "      <td>[[0.9818349753694581, 0.5421393841166937, 0.03...</td>\n",
       "      <td>0</td>\n",
       "      <td>True</td>\n",
       "    </tr>\n",
       "  </tbody>\n",
       "</table>\n",
       "</div>"
      ],
      "text/plain": [
       "                        filename  \\\n",
       "0  camcourt1_1512760174441_0.png   \n",
       "1  camcourt2_1512760174441_0.png   \n",
       "2  camcourt2_1512761974116_0.png   \n",
       "3  camcourt1_1512763413947_0.png   \n",
       "4  camcourt2_1512763413947_0.png   \n",
       "\n",
       "                                      bounding_boxes  num_missing  is_training  \n",
       "0  [[0.6591748768472906, 0.37763371150729336, 0.0...            0         True  \n",
       "1  [[0.48460591133004927, 0.40640194489465153, 0....            0         True  \n",
       "2  [[0.6268472906403941, 0.5587520259319287, 0.03...            0         True  \n",
       "3  [[0.8103448275862069, 0.5162074554294975, 0.04...            0         True  \n",
       "4  [[0.9818349753694581, 0.5421393841166937, 0.03...            0         True  "
      ]
     },
     "execution_count": 131,
     "metadata": {},
     "output_type": "execute_result"
    }
   ],
   "source": [
    "clean_annotation_data.head()"
   ]
  },
  {
   "cell_type": "code",
   "execution_count": 123,
   "metadata": {},
   "outputs": [],
   "source": [
    "for index, row in clean_annotation_data.iterrows():\n",
    "    filename = row['filename']\n",
    "    label_filename = filename[:-4] + '.txt'\n",
    "    bounding_boxes = row['bounding_boxes']\n",
    "    if row['is_training']:\n",
    "        label_filepath = os.path.join('datasets/player-data/train/labels', label_filename)\n",
    "        shutil.move('datasets/player-data/' + filename, 'datasets/player-data/train/images')\n",
    "    else:\n",
    "        label_filepath = os.path.join('datasets/player-data/val/labels', label_filename)\n",
    "        shutil.move('datasets/player-data/' + filename, 'datasets/player-data/val/images')\n",
    "    with open(label_filepath, 'w') as f:\n",
    "        for box in bounding_boxes:\n",
    "            f.write(f\"0 {box[0]} {box[1]} {box[2]} {box[3]}\\n\")"
   ]
  }
 ],
 "metadata": {
  "kernelspec": {
   "display_name": "bball-tracker",
   "language": "python",
   "name": "python3"
  },
  "language_info": {
   "codemirror_mode": {
    "name": "ipython",
    "version": 3
   },
   "file_extension": ".py",
   "mimetype": "text/x-python",
   "name": "python",
   "nbconvert_exporter": "python",
   "pygments_lexer": "ipython3",
   "version": "3.12.2"
  }
 },
 "nbformat": 4,
 "nbformat_minor": 2
}
