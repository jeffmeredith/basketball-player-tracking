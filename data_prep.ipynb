{
 "cells": [
  {
   "cell_type": "code",
   "execution_count": 91,
   "metadata": {},
   "outputs": [],
   "source": [
    "import json\n",
    "import pandas as pd\n",
    "import numpy as np\n",
    "import cv2\n",
    "import copy\n",
    "from ultralytics import YOLO\n",
    "import shutil\n",
    "import os\n",
    "import ast"
   ]
  },
  {
   "cell_type": "code",
   "execution_count": 92,
   "metadata": {},
   "outputs": [],
   "source": [
    "with open('data/basketball-instants-dataset.json', 'r') as f:\n",
    "    data = json.load(f)"
   ]
  },
  {
   "cell_type": "code",
   "execution_count": 93,
   "metadata": {},
   "outputs": [],
   "source": [
    "# extract relevant player position data from dataset json into a cleaner json file\n",
    "\n",
    "player_data = []\n",
    "for timestamp in data:\n",
    "    if timestamp['annotated_human_masks']:\n",
    "        left_player_timestamp = copy.deepcopy(timestamp)\n",
    "        right_player_timestamp = copy.deepcopy(timestamp)\n",
    "        left_player_timestamp['side'] = 'left'\n",
    "        right_player_timestamp['side'] = 'right'\n",
    "        left_player_timestamp['annotations'] = []\n",
    "        right_player_timestamp['annotations'] = []\n",
    "        for annotation in timestamp['annotations']:\n",
    "            if annotation['type'] == 'player' and annotation['image'] == 0:\n",
    "                left_player_timestamp['annotations'].append({\n",
    "                    \"type\": \"player\",\n",
    "                    \"xyz\": annotation['head'],\n",
    "                    \"image\": annotation['image']\n",
    "                })\n",
    "            elif annotation['type'] == 'player' and annotation['image'] == 1:\n",
    "                right_player_timestamp['annotations'].append({\n",
    "                    \"type\": \"player\",\n",
    "                    \"xyz\": [2800 - annotation['head'][0], annotation['head'][1], annotation['head'][2]],\n",
    "                    \"image\": annotation['image']\n",
    "                })\n",
    "        if len(left_player_timestamp['annotations']) > 0:\n",
    "            player_data.append(left_player_timestamp)\n",
    "        if len(right_player_timestamp['annotations']) > 0:\n",
    "            player_data.append(right_player_timestamp)"
   ]
  },
  {
   "cell_type": "code",
   "execution_count": 115,
   "metadata": {},
   "outputs": [],
   "source": [
    "# extract relevant ball data from dataset json into a cleaner json file\n",
    "\n",
    "basketball_data = []\n",
    "\n",
    "for timestamp in data:\n",
    "    ball_timestamp = copy.deepcopy(timestamp)\n",
    "    ball_timestamp['annotations'] = []\n",
    "    basketball_data.append(ball_timestamp)\n",
    "    for annotation in timestamp['annotations']:\n",
    "        if annotation['type'] == 'ball':\n",
    "            ball_timestamp['annotations'].append(annotation)"
   ]
  },
  {
   "cell_type": "code",
   "execution_count": 94,
   "metadata": {},
   "outputs": [],
   "source": [
    "with open('data/basketball-positions.json', \"w\") as f:\n",
    "    json.dump(basketball_data, f)\n",
    "with open('data/player-positions.json', \"w\") as f:\n",
    "    json.dump(player_data, f)"
   ]
  },
  {
   "cell_type": "code",
   "execution_count": 88,
   "metadata": {},
   "outputs": [],
   "source": [
    "with open('data/basketball-positions.json', 'r') as f:\n",
    "    basketball_data = json.load(f)\n",
    "with open('data/player-positions.json', 'r') as f:\n",
    "    player_data = json.load(f)"
   ]
  },
  {
   "cell_type": "code",
   "execution_count": 90,
   "metadata": {},
   "outputs": [
    {
     "name": "stdout",
     "output_type": "stream",
     "text": [
      "Number of images with ball visible: 320\n",
      "Number of images total: 364\n",
      "Number of images with players annotated: 288\n"
     ]
    }
   ],
   "source": [
    "count_with_ball = 0\n",
    "count_with_player = 0\n",
    "for timestamp in basketball_data:\n",
    "    if timestamp['annotations'][0]['visible']:\n",
    "        count_with_ball += 1\n",
    "for timestamp in player_data:\n",
    "    if len(timestamp['annotations']) > 0:\n",
    "        count_with_player += 1\n",
    "print(\"Number of images with ball visible: \" + str(count_with_ball))\n",
    "print(\"Number of images total: \" + str(len(basketball_data)))\n",
    "print(\"Number of images with players annotated: \" + str(count_with_player))"
   ]
  },
  {
   "cell_type": "code",
   "execution_count": 4,
   "metadata": {},
   "outputs": [],
   "source": [
    "for frame in basketball_data:\n",
    "    if frame['annotations'][0]['visible']:\n",
    "        filename1 = 'camcourt1_' + str(frame['timestamp']) + '_' + '0.png'\n",
    "        filename2 = 'camcourt1_' + str(frame['timestamp']) + '_' + '40.png'\n",
    "        filename3 = 'camcourt2_' + str(frame['timestamp']) + '_' + '0.png'\n",
    "        filename4 = 'camcourt2_' + str(frame['timestamp']) + '_' + '40.png'\n",
    "        shutil.copy('data/' + str(frame['arena_label']) + '/' + str(frame['game_id']) + '/' + filename1, os.path.join('datasets/yolo-basketball-data/images/', filename1))\n",
    "        try:\n",
    "            shutil.copy('data/' + str(frame['arena_label']) + '/' + str(frame['game_id']) + '/' + filename2, os.path.join('datasets/yolo-basketball-data/images/', filename2))\n",
    "        except FileNotFoundError:\n",
    "            filename2 = filename2[:-6] + '80.png'\n",
    "            shutil.copy('data/' + str(frame['arena_label']) + '/' + str(frame['game_id']) + '/' + filename2, os.path.join('datasets/yolo-basketball-data/images/', filename2))\n",
    "        shutil.copy('data/' + str(frame['arena_label']) + '/' + str(frame['game_id']) + '/' + filename3, os.path.join('datasets/yolo-basketball-data/images/', filename3))\n",
    "        try:\n",
    "            shutil.copy('data/' + str(frame['arena_label']) + '/' + str(frame['game_id']) + '/' + filename4, os.path.join('datasets/yolo-basketball-data/images/', filename4))\n",
    "        except FileNotFoundError:\n",
    "            filename4 = filename4[:-6] + '80.png'\n",
    "            shutil.copy('data/' + str(frame['arena_label']) + '/' + str(frame['game_id']) + '/' + filename4, os.path.join('datasets/yolo-basketball-data/images/', filename4))"
   ]
  },
  {
   "cell_type": "code",
   "execution_count": 2,
   "metadata": {},
   "outputs": [],
   "source": [
    "def str_to_dict(s):\n",
    "    try:\n",
    "        return ast.literal_eval(s)\n",
    "    except ValueError:\n",
    "        print(\"ValueError occurred\")\n",
    "        return None"
   ]
  },
  {
   "cell_type": "code",
   "execution_count": 8,
   "metadata": {},
   "outputs": [],
   "source": [
    "ball_annotations = pd.read_csv('basketball_annotations.csv', converters={'region_shape_attributes': str_to_dict})\n",
    "ball_annotations = ball_annotations[['filename', 'region_count', 'region_shape_attributes']]\n",
    "ball_annotations = ball_annotations[ball_annotations['region_count'] == 1]\n",
    "ball_annotations['is_training'] = np.concatenate([np.array([True] * int(0.8 * len(ball_annotations))), np.array([False] * (len(ball_annotations) - int(0.8 * len(ball_annotations))))])\n",
    "ball_annotations['is_training'] = ball_annotations['is_training'].sample(frac=1).reset_index(drop=True)"
   ]
  },
  {
   "cell_type": "code",
   "execution_count": 9,
   "metadata": {},
   "outputs": [
    {
     "data": {
      "text/html": [
       "<div>\n",
       "<style scoped>\n",
       "    .dataframe tbody tr th:only-of-type {\n",
       "        vertical-align: middle;\n",
       "    }\n",
       "\n",
       "    .dataframe tbody tr th {\n",
       "        vertical-align: top;\n",
       "    }\n",
       "\n",
       "    .dataframe thead th {\n",
       "        text-align: right;\n",
       "    }\n",
       "</style>\n",
       "<table border=\"1\" class=\"dataframe\">\n",
       "  <thead>\n",
       "    <tr style=\"text-align: right;\">\n",
       "      <th></th>\n",
       "      <th>filename</th>\n",
       "      <th>region_count</th>\n",
       "      <th>region_shape_attributes</th>\n",
       "      <th>is_training</th>\n",
       "    </tr>\n",
       "  </thead>\n",
       "  <tbody>\n",
       "    <tr>\n",
       "      <th>0</th>\n",
       "      <td>camcourt1_1512405572696_0.png</td>\n",
       "      <td>1</td>\n",
       "      <td>{'name': 'rect', 'x': 1415, 'y': 1090, 'width'...</td>\n",
       "      <td>True</td>\n",
       "    </tr>\n",
       "    <tr>\n",
       "      <th>1</th>\n",
       "      <td>camcourt1_1512405572696_40.png</td>\n",
       "      <td>1</td>\n",
       "      <td>{'name': 'rect', 'x': 1342, 'y': 1087, 'width'...</td>\n",
       "      <td>True</td>\n",
       "    </tr>\n",
       "    <tr>\n",
       "      <th>2</th>\n",
       "      <td>camcourt1_1512405932787_0.png</td>\n",
       "      <td>1</td>\n",
       "      <td>{'name': 'rect', 'x': 535, 'y': 1092, 'width':...</td>\n",
       "      <td>True</td>\n",
       "    </tr>\n",
       "    <tr>\n",
       "      <th>3</th>\n",
       "      <td>camcourt1_1512405932787_40.png</td>\n",
       "      <td>1</td>\n",
       "      <td>{'name': 'rect', 'x': 524, 'y': 1090, 'width':...</td>\n",
       "      <td>False</td>\n",
       "    </tr>\n",
       "    <tr>\n",
       "      <th>16</th>\n",
       "      <td>camcourt1_1512421952112_0.png</td>\n",
       "      <td>1</td>\n",
       "      <td>{'name': 'rect', 'x': 1427, 'y': 921, 'width':...</td>\n",
       "      <td>False</td>\n",
       "    </tr>\n",
       "  </tbody>\n",
       "</table>\n",
       "</div>"
      ],
      "text/plain": [
       "                          filename  region_count  \\\n",
       "0    camcourt1_1512405572696_0.png             1   \n",
       "1   camcourt1_1512405572696_40.png             1   \n",
       "2    camcourt1_1512405932787_0.png             1   \n",
       "3   camcourt1_1512405932787_40.png             1   \n",
       "16   camcourt1_1512421952112_0.png             1   \n",
       "\n",
       "                              region_shape_attributes is_training  \n",
       "0   {'name': 'rect', 'x': 1415, 'y': 1090, 'width'...        True  \n",
       "1   {'name': 'rect', 'x': 1342, 'y': 1087, 'width'...        True  \n",
       "2   {'name': 'rect', 'x': 535, 'y': 1092, 'width':...        True  \n",
       "3   {'name': 'rect', 'x': 524, 'y': 1090, 'width':...       False  \n",
       "16  {'name': 'rect', 'x': 1427, 'y': 921, 'width':...       False  "
      ]
     },
     "execution_count": 9,
     "metadata": {},
     "output_type": "execute_result"
    }
   ],
   "source": [
    "ball_annotations.head()"
   ]
  },
  {
   "cell_type": "code",
   "execution_count": 47,
   "metadata": {},
   "outputs": [],
   "source": [
    "for index, row in ball_annotations.iterrows():\n",
    "    label_filepath = \"\"\n",
    "    is_train = row['is_training']\n",
    "    filename = row['filename']\n",
    "    label_filename = filename[:-4] + \".txt\"\n",
    "    annotation = row['region_shape_attributes']\n",
    "    height, width, _ = cv2.imread('datasets/yolo-basketball-data/images/' + filename).shape\n",
    "    if is_train:\n",
    "        label_filepath = os.path.join('datasets/yolo-basketball-data/train/labels', label_filename)\n",
    "        shutil.move('datasets/yolo-basketball-data/images/' + filename, 'datasets/yolo-basketball-data/train/images')\n",
    "    else:\n",
    "        label_filepath = os.path.join('datasets/yolo-basketball-data/val/labels', label_filename)\n",
    "        shutil.move('datasets/yolo-basketball-data/images/' + filename, 'datasets/yolo-basketball-data/val/images')\n",
    "    normal_x = (annotation['x'] + annotation['width']/2) / width\n",
    "    normal_y = (annotation['y'] + annotation['height']/2) / height\n",
    "    normal_width = annotation['width'] / width\n",
    "    normal_height = annotation['height'] / height\n",
    "    with open(label_filepath, 'w') as f:\n",
    "        f.write(f\"0 {normal_x} {normal_y} {normal_width} {normal_height}\")"
   ]
  },
  {
   "cell_type": "code",
   "execution_count": 3,
   "metadata": {},
   "outputs": [],
   "source": [
    "court_annotations = pd.read_csv('court_lines_annotation_csv.csv', converters={'region_shape_attributes': str_to_dict})\n",
    "court_annotations = court_annotations[['filename', 'region_count', 'region_shape_attributes']]\n",
    "court_annotations = court_annotations[court_annotations['region_count'] >= 1]\n",
    "court_annotations['is_training'] = np.concatenate([np.array([True] * int(0.8 * len(court_annotations))), np.array([False] * (len(court_annotations) - int(0.8 * len(court_annotations))))])\n",
    "court_annotations['is_training'] = court_annotations['is_training'].sample(frac=1).reset_index(drop=True)"
   ]
  },
  {
   "cell_type": "code",
   "execution_count": 4,
   "metadata": {},
   "outputs": [
    {
     "data": {
      "text/html": [
       "<div>\n",
       "<style scoped>\n",
       "    .dataframe tbody tr th:only-of-type {\n",
       "        vertical-align: middle;\n",
       "    }\n",
       "\n",
       "    .dataframe tbody tr th {\n",
       "        vertical-align: top;\n",
       "    }\n",
       "\n",
       "    .dataframe thead th {\n",
       "        text-align: right;\n",
       "    }\n",
       "</style>\n",
       "<table border=\"1\" class=\"dataframe\">\n",
       "  <thead>\n",
       "    <tr style=\"text-align: right;\">\n",
       "      <th></th>\n",
       "      <th>filename</th>\n",
       "      <th>region_count</th>\n",
       "      <th>region_shape_attributes</th>\n",
       "      <th>is_training</th>\n",
       "    </tr>\n",
       "  </thead>\n",
       "  <tbody>\n",
       "    <tr>\n",
       "      <th>0</th>\n",
       "      <td>camcourt1_1579292188102_0.png</td>\n",
       "      <td>1</td>\n",
       "      <td>{'name': 'polygon', 'all_points_x': [130, 1040...</td>\n",
       "      <td>True</td>\n",
       "    </tr>\n",
       "    <tr>\n",
       "      <th>1</th>\n",
       "      <td>camcourt1_1579292188102_40.png</td>\n",
       "      <td>1</td>\n",
       "      <td>{'name': 'polygon', 'all_points_x': [130, 1040...</td>\n",
       "      <td>True</td>\n",
       "    </tr>\n",
       "    <tr>\n",
       "      <th>2</th>\n",
       "      <td>camcourt1_1579966753552_0.png</td>\n",
       "      <td>1</td>\n",
       "      <td>{'name': 'polygon', 'all_points_x': [130, 1043...</td>\n",
       "      <td>True</td>\n",
       "    </tr>\n",
       "    <tr>\n",
       "      <th>3</th>\n",
       "      <td>camcourt1_1579966753552_40.png</td>\n",
       "      <td>1</td>\n",
       "      <td>{'name': 'polygon', 'all_points_x': [128, 1043...</td>\n",
       "      <td>True</td>\n",
       "    </tr>\n",
       "    <tr>\n",
       "      <th>4</th>\n",
       "      <td>camcourt1_1579966954351_0.png</td>\n",
       "      <td>1</td>\n",
       "      <td>{'name': 'polygon', 'all_points_x': [130, 1038...</td>\n",
       "      <td>False</td>\n",
       "    </tr>\n",
       "  </tbody>\n",
       "</table>\n",
       "</div>"
      ],
      "text/plain": [
       "                         filename  region_count  \\\n",
       "0   camcourt1_1579292188102_0.png             1   \n",
       "1  camcourt1_1579292188102_40.png             1   \n",
       "2   camcourt1_1579966753552_0.png             1   \n",
       "3  camcourt1_1579966753552_40.png             1   \n",
       "4   camcourt1_1579966954351_0.png             1   \n",
       "\n",
       "                             region_shape_attributes  is_training  \n",
       "0  {'name': 'polygon', 'all_points_x': [130, 1040...         True  \n",
       "1  {'name': 'polygon', 'all_points_x': [130, 1040...         True  \n",
       "2  {'name': 'polygon', 'all_points_x': [130, 1043...         True  \n",
       "3  {'name': 'polygon', 'all_points_x': [128, 1043...         True  \n",
       "4  {'name': 'polygon', 'all_points_x': [130, 1038...        False  "
      ]
     },
     "execution_count": 4,
     "metadata": {},
     "output_type": "execute_result"
    }
   ],
   "source": [
    "court_annotations.head()"
   ]
  },
  {
   "cell_type": "code",
   "execution_count": 8,
   "metadata": {},
   "outputs": [],
   "source": [
    "for index, row in court_annotations.iterrows():\n",
    "    label_filepath = \"\"\n",
    "    is_train = row['is_training']\n",
    "    filename = row['filename']\n",
    "    label_filename = filename[:-4] + \".txt\"\n",
    "    annotation = row['region_shape_attributes']\n",
    "    height, width, _ = cv2.imread('datasets/court-lines-data/' + filename).shape\n",
    "    if is_train:\n",
    "        label_filepath = os.path.join('datasets/court-lines-data/train/labels', label_filename)\n",
    "        shutil.move('datasets/court-lines-data/' + filename, 'datasets/court-lines-data/train/images')\n",
    "    else:\n",
    "        label_filepath = os.path.join('datasets/court-lines-data/val/labels', label_filename)\n",
    "        shutil.move('datasets/court-lines-data/' + filename, 'datasets/court-lines-data/val/images')\n",
    "    normal_x1 = annotation['all_points_x'][0] / width\n",
    "    normal_y1 = annotation['all_points_y'][0] / height\n",
    "    normal_x2 = annotation['all_points_x'][1] / width\n",
    "    normal_y2 = annotation['all_points_y'][1] / height\n",
    "    normal_x3 = annotation['all_points_x'][2] / width\n",
    "    normal_y3 = annotation['all_points_y'][2] / height\n",
    "    normal_x4 = annotation['all_points_x'][3] / width\n",
    "    normal_y4 = annotation['all_points_y'][3] / height\n",
    "    with open(label_filepath, 'w') as f:\n",
    "        f.write(f\"0 {normal_x1} {normal_y1} {normal_x2} {normal_y2} {normal_x3} {normal_y3} {normal_x4} {normal_y4}\")"
   ]
  },
  {
   "cell_type": "code",
   "execution_count": null,
   "metadata": {},
   "outputs": [],
   "source": []
  }
 ],
 "metadata": {
  "kernelspec": {
   "display_name": "bball-tracker",
   "language": "python",
   "name": "python3"
  },
  "language_info": {
   "codemirror_mode": {
    "name": "ipython",
    "version": 3
   },
   "file_extension": ".py",
   "mimetype": "text/x-python",
   "name": "python",
   "nbconvert_exporter": "python",
   "pygments_lexer": "ipython3",
   "version": "3.12.2"
  }
 },
 "nbformat": 4,
 "nbformat_minor": 2
}
